{
  "nbformat": 4,
  "nbformat_minor": 0,
  "metadata": {
    "colab": {
      "name": "Image Classification.ipynb",
      "provenance": [],
      "authorship_tag": "ABX9TyPB2D8q4+EIuFfjevgODKUX",
      "include_colab_link": true
    },
    "kernelspec": {
      "name": "python3",
      "display_name": "Python 3"
    }
  },
  "cells": [
    {
      "cell_type": "markdown",
      "metadata": {
        "id": "view-in-github",
        "colab_type": "text"
      },
      "source": [
        "<a href=\"https://colab.research.google.com/github/bhavanavattikonda/Minor-project/blob/main/Image_Classification.ipynb\" target=\"_parent\"><img src=\"https://colab.research.google.com/assets/colab-badge.svg\" alt=\"Open In Colab\"/></a>"
      ]
    },
    {
      "cell_type": "code",
      "metadata": {
        "colab": {
          "base_uri": "https://localhost:8080/"
        },
        "id": "9nkZwjZcDtHS",
        "outputId": "84c36877-af6a-4096-bead-0212bad0b64e"
      },
      "source": [
        "!pip install bing-image-downloader"
      ],
      "execution_count": null,
      "outputs": [
        {
          "output_type": "stream",
          "text": [
            "Collecting bing-image-downloader\n",
            "  Downloading https://files.pythonhosted.org/packages/0d/bf/537a61030b84ae4cd5022d5c7b014fd9bc3ce7c02358919153a6658a61d3/bing_image_downloader-1.0.4-py3-none-any.whl\n",
            "Installing collected packages: bing-image-downloader\n",
            "Successfully installed bing-image-downloader-1.0.4\n",
            "time: 2.94 s\n"
          ],
          "name": "stdout"
        }
      ]
    },
    {
      "cell_type": "code",
      "metadata": {
        "id": "9-0ZHoCWEEKl",
        "colab": {
          "base_uri": "https://localhost:8080/"
        },
        "outputId": "bce7c891-0a92-482f-94eb-d9ba353bc025"
      },
      "source": [
        "!mkdir images"
      ],
      "execution_count": null,
      "outputs": [
        {
          "output_type": "stream",
          "text": [
            "time: 119 ms\n"
          ],
          "name": "stdout"
        }
      ]
    },
    {
      "cell_type": "code",
      "metadata": {
        "colab": {
          "base_uri": "https://localhost:8080/"
        },
        "id": "dZ1wKyoSEvbu",
        "outputId": "fa96711b-02ab-4a20-93c8-c7b73694f0dd"
      },
      "source": [
        "from bing_image_downloader import downloader\n",
        "downloader.download(\"chocolates\",limit=30,output_dir='images',adult_filter_off=True)"
      ],
      "execution_count": null,
      "outputs": [
        {
          "output_type": "stream",
          "text": [
            "\n",
            "\n",
            "[!!]Indexing page: 1\n",
            "\n",
            "[%] Indexed 18 Images on Page 1.\n",
            "\n",
            "===============================================\n",
            "\n",
            "[%] Downloading Image #1 from https://upload.wikimedia.org/wikipedia/commons/thumb/2/26/York_Chocolate.jpg/1200px-York_Chocolate.jpg\n",
            "[%] File Downloaded !\n",
            "\n",
            "[%] Downloading Image #2 from https://luxurylaunches.com/wp-content/uploads/2012/11/Kopi_Luwak_coffee.jpg\n",
            "[%] File Downloaded !\n",
            "\n",
            "[%] Downloading Image #3 from https://www.animals-zone.com/wp-content/uploads/2016/02/brothers-and-sisters-207822_1920.jpg\n",
            "[%] File Downloaded !\n",
            "\n",
            "[%] Downloading Image #4 from https://babyshowerideas4u.com/wp-content/uploads/2014/03/dinosaur-themed-baby-shower-23.jpg\n",
            "[%] File Downloaded !\n",
            "\n",
            "[%] Downloading Image #5 from http://keyassets-p2.timeincuk.net/wp/prod/wp-content/uploads/sites/32/2016/11/Christmas-dessert-featured-image.jpg\n",
            "[%] File Downloaded !\n",
            "\n",
            "[%] Downloading Image #6 from https://images.template.net/wp-content/uploads/2016/10/31113057/Chacolate-Miniature-Art-Photography.jpg\n",
            "[%] File Downloaded !\n",
            "\n",
            "[%] Downloading Image #7 from http://www.homemade-gifts-made-easy.com/image-files/make-your-own-gift-box-2-wallpaper-674x1024.jpg\n",
            "[%] File Downloaded !\n",
            "\n",
            "[%] Downloading Image #8 from https://weneedfun.com/wp-content/uploads/2016/12/Happy-New-Year-2017-Calendar-9.jpg\n",
            "[%] File Downloaded !\n",
            "\n",
            "[%] Downloading Image #9 from https://casaefesta.com/wp-content/uploads/2018/05/cesta-dia-dos-namorados-2019-20.jpeg\n",
            "[%] File Downloaded !\n",
            "\n",
            "[%] Downloading Image #10 from https://www.visionsoftravel.org/wp-content/uploads/2017/04/Visions-of-Bruges-Belgium-3.jpeg\n",
            "[%] File Downloaded !\n",
            "\n",
            "[%] Downloading Image #11 from https://weneedfun.com/wp-content/uploads/2016/12/Happy-New-Year-2017-Calendar-17.jpg\n",
            "[%] File Downloaded !\n",
            "\n",
            "[%] Downloading Image #12 from https://weneedfun.com/wp-content/uploads/2016/12/Happy-New-Year-2017-Calendar-19.jpg\n",
            "[%] File Downloaded !\n",
            "\n",
            "[%] Downloading Image #13 from https://i1.wp.com/www.daledetalles.com/wp-content/uploads/2017/09/cajitas-con-forma-de-angel10.jpg?resize=564%2C752\n",
            "[%] File Downloaded !\n",
            "\n",
            "[%] Downloading Image #14 from https://keyassets-p2.timeincuk.net/wp/prod/wp-content/uploads/sites/31/2016/05/peanut-butter-dipped-cake-featured.jpg\n",
            "[%] File Downloaded !\n",
            "\n",
            "[%] Downloading Image #15 from https://babyshowerideas4u.com/wp-content/uploads/2016/03/little-man-baby-shower-decorations-dessert-table.jpg\n",
            "[%] File Downloaded !\n",
            "\n",
            "[%] Downloading Image #16 from http://www.lickthespoon.co.uk/wp-content/gallery/wedding_cakes/jed-and-anna-closeup-sunflowers-1000.jpg\n",
            "[%] File Downloaded !\n",
            "\n",
            "[%] Downloading Image #17 from https://www.highhillranch.com/resources/DSC_2409.jpg\n",
            "[%] File Downloaded !\n",
            "\n",
            "[%] Downloading Image #18 from http://alliswall.com/file/5324/600x338/16:9/purple_snow_flower.jpg\n",
            "[%] File Downloaded !\n",
            "\n",
            "\n",
            "\n",
            "[!!]Indexing page: 2\n",
            "\n",
            "[%] Indexed 18 Images on Page 2.\n",
            "\n",
            "===============================================\n",
            "\n",
            "[%] Downloading Image #19 from https://i0.wp.com/www.daledetalles.com/wp-content/uploads/2016/08/arreglos-con-chocolates-ferrero3.jpg?resize=480%2C720\n",
            "[%] File Downloaded !\n",
            "\n",
            "[%] Downloading Image #20 from https://www.lickthespoon.co.uk/wp-content/gallery/wedding_cakes/jed-and-anna-closeup-sunflowers-1000.jpg\n",
            "[%] File Downloaded !\n",
            "\n",
            "[%] Downloading Image #21 from https://cakeselizabeths.files.wordpress.com/2015/03/red-white-and-blue-wedding-cake.jpg\n",
            "[Error]Invalid image, not saving https://cakeselizabeths.files.wordpress.com/2015/03/red-white-and-blue-wedding-cake.jpg\n",
            "\n",
            "[!] Issue getting: https://cakeselizabeths.files.wordpress.com/2015/03/red-white-and-blue-wedding-cake.jpg\n",
            "[!] Error:: No active exception to reraise\n",
            "[%] Downloading Image #21 from https://i1.wp.com/www.daledetalles.com/wp-content/uploads/2016/08/arreglos-con-chocolates-ferrero29.jpg?resize=480%2C669\n",
            "[%] File Downloaded !\n",
            "\n",
            "[%] Downloading Image #22 from https://i1.wp.com/www.daledetalles.com/wp-content/uploads/2017/09/cajitas-con-forma-de-angel10.jpg\n",
            "[%] File Downloaded !\n",
            "\n",
            "[%] Downloading Image #23 from http://www.phototadka.com/wp-content/uploads/2017/08/Kriti-Sanon-photos.jpg\n",
            "[%] File Downloaded !\n",
            "\n",
            "[%] Downloading Image #24 from https://www.bobswatches.com/images/z104035-c.jpg\n",
            "[%] File Downloaded !\n",
            "\n",
            "[%] Downloading Image #25 from https://66.media.tumblr.com/6b90d6c70de1e09f0493f5d2e6ad1054/tumblr_n7ciswMjRf1ty8ibio2_1280.jpg\n",
            "[%] File Downloaded !\n",
            "\n",
            "[%] Downloading Image #26 from http://godfatherstyle.com/wp-content/uploads/2016/11/handmade-valentines-day-gift-ideas-for-her-diy-repurposed-old-bulb-made-for-gift.png\n",
            "[%] File Downloaded !\n",
            "\n",
            "[%] Downloading Image #27 from http://www.cakeygoodness.co.uk/wp-content/uploads/2020/06/mint-lindor-drip-cake-6.jpg\n",
            "[%] File Downloaded !\n",
            "\n",
            "[%] Downloading Image #28 from https://i0.wp.com/www.daledetalles.com/wp-content/uploads/2016/02/valentin14.jpg?resize=564%2C564\n",
            "[%] File Downloaded !\n",
            "\n",
            "[%] Downloading Image #29 from http://www.icreativeideas.com/wp-content/uploads/2014/11/Creative-Ideas-DIY-Cute-Christmas-Tree-Gift-Box-11.jpg\n",
            "[%] File Downloaded !\n",
            "\n",
            "[%] Downloading Image #30 from https://i.shelterness.com/2016/10/18-Christmas-sweets-display-for-a-tea-party.jpg\n",
            "[%] File Downloaded !\n",
            "\n",
            "\n",
            "\n",
            "[%] Done. Downloaded 30 images.\n",
            "\n",
            "===============================================\n",
            "\n",
            "time: 31.5 s\n"
          ],
          "name": "stdout"
        }
      ]
    },
    {
      "cell_type": "code",
      "metadata": {
        "colab": {
          "base_uri": "https://localhost:8080/"
        },
        "id": "hQrDy6lRF-fA",
        "outputId": "ef4caf78-3b33-40e1-8649-08852616e380"
      },
      "source": [
        "from bing_image_downloader import downloader\n",
        "downloader.download(\"shoes\",limit=30,output_dir='images',adult_filter_off=True)"
      ],
      "execution_count": null,
      "outputs": [
        {
          "output_type": "stream",
          "text": [
            "\n",
            "\n",
            "[!!]Indexing page: 1\n",
            "\n",
            "[%] Indexed 20 Images on Page 1.\n",
            "\n",
            "===============================================\n",
            "\n",
            "[%] Downloading Image #1 from http://static.mountainwarehouse.com/productimages/018/018385_PUR_CHAMPION_KIDS_RUNNING_SHOE_SS13_1_l.jpg\n",
            "[%] File Downloaded !\n",
            "\n",
            "[%] Downloading Image #2 from http://www.designboom.com/wp-content/uploads/2014/09/nike_lebron12_shoe_05.jpg\n",
            "[%] File Downloaded !\n",
            "\n",
            "[%] Downloading Image #3 from http://img1.etsystatic.com/004/0/5999243/il_fullxfull.369039015_tv2f.jpg\n",
            "[%] File Downloaded !\n",
            "\n",
            "[%] Downloading Image #4 from http://www.orthoticshop.com/images/D/orthaheel-womens-walker-white-blue.jpg\n",
            "[!] Issue getting: http://www.orthoticshop.com/images/D/orthaheel-womens-walker-white-blue.jpg\n",
            "[!] Error:: HTTP Error 503: Service Temporarily Unavailable\n",
            "[%] Downloading Image #4 from http://valuestockphoto.com/downloads/43205-2/smelly_shoes.jpg\n",
            "[%] File Downloaded !\n",
            "\n",
            "[%] Downloading Image #5 from http://www.incrediblethings.com/wp-content/uploads/2014/03/emoji-loafers-shoes-8.jpg\n",
            "[%] File Downloaded !\n",
            "\n",
            "[%] Downloading Image #6 from http://3.bp.blogspot.com/-r23vaYsx50A/TeY_gbw0Q7I/AAAAAAAAAqY/8VV4tWPCu3U/s400/Most+expensive+shoes+2.jpg\n",
            "[%] File Downloaded !\n",
            "\n",
            "[%] Downloading Image #7 from http://www.thevikingstore.co.uk/ekmps/shops/thevikingstore1/images/costume-ladies-4-heel-steampunk-short-boots-6295-p.jpg\n",
            "[%] File Downloaded !\n",
            "\n",
            "[%] Downloading Image #8 from http://www.sneakerglossary.com/pictures/NIke-Scottie-Pippen-2-White-Royal-Blue-shoes.jpg\n",
            "[%] File Downloaded !\n",
            "\n",
            "[%] Downloading Image #9 from http://www.primermagazine.com/wp-content/uploads/2012/01/StyleQA_BlackBrown/StyleQA_BlackBrown_Craig.jpg\n",
            "[%] File Downloaded !\n",
            "\n",
            "[%] Downloading Image #10 from http://zerodroprunningshoes.com/wp-content/uploads/2013/04/brooks-puredrift-running-shoes-1.jpg\n",
            "[%] File Downloaded !\n",
            "\n",
            "[%] Downloading Image #11 from http://youbentmywookie.com/wookie/gallery/cache/31944__520x440_pokemon-nike-shoe.jpg\n",
            "[%] File Downloaded !\n",
            "\n",
            "[%] Downloading Image #12 from http://only-sneakers.ru/wp-content/uploads/2013/02/british-knights-dymacel-basket-shoes.jpg\n",
            "[%] File Downloaded !\n",
            "\n",
            "[%] Downloading Image #13 from http://www.mysafetysign.com/img/lg/S/No-Thongs-Sandals-Footwear-Sign-S-9391.gif\n",
            "[!] Issue getting: http://www.mysafetysign.com/img/lg/S/No-Thongs-Sandals-Footwear-Sign-S-9391.gif\n",
            "[!] Error:: HTTP Error 403: Forbidden\n",
            "[%] Downloading Image #13 from http://cdn.trendhunterstatic.com/thumbs/christianne-jackson.jpeg\n",
            "[%] File Downloaded !\n",
            "\n",
            "[%] Downloading Image #14 from http://4.bp.blogspot.com/-gz1gxjQj50k/TcK3nP2Hl_I/AAAAAAAAAA0/gpJk_iy2fNY/s1600/2011-vogue-lady-louis-vuitton-shoes-boots-dress-boot-34653.jpg\n",
            "[%] File Downloaded !\n",
            "\n",
            "[%] Downloading Image #15 from http://2.bp.blogspot.com/-xDCF5jdh5No/UiOEKs50UNI/AAAAAAAAN7c/YlQQ6fDTB74/s1600/Lime-Green-High-Heel-Shoes+(7).jpg\n",
            "[%] File Downloaded !\n",
            "\n",
            "[%] Downloading Image #16 from http://3.bp.blogspot.com/-g3bdXkbu-v4/TpjJtoQvx_I/AAAAAAAAAsM/ZGNluU5-2oQ/s1600/high-heel-shoes4.jpg\n",
            "[%] File Downloaded !\n",
            "\n",
            "[%] Downloading Image #17 from http://media.englishrussia.com/mafia_style_prank/4.jpg\n",
            "[%] File Downloaded !\n",
            "\n",
            "[%] Downloading Image #18 from http://www.clker.com/cliparts/W/b/f/h/2/B/got-mud-hi.png\n",
            "[%] File Downloaded !\n",
            "\n",
            "\n",
            "\n",
            "[!!]Indexing page: 2\n",
            "\n",
            "[%] Indexed 20 Images on Page 2.\n",
            "\n",
            "===============================================\n",
            "\n",
            "[%] Downloading Image #19 from http://3.bp.blogspot.com/-fQsIQD22AkE/TqjIACO9PJI/AAAAAAAABZ4/nJrnNFoOPT8/s1600/funny+shoes.jpg\n",
            "[%] File Downloaded !\n",
            "\n",
            "[%] Downloading Image #20 from http://scene7.zumiez.com/is/image/zumiez/product_detail/Vans-Authentic-Lo-Pro-Galaxy-Print-Shoe-_210917.jpg\n",
            "[%] File Downloaded !\n",
            "\n",
            "[%] Downloading Image #21 from http://ballislife.com/wp-content/uploads/2012/08/773_SkyBlue_Profile.jpg\n",
            "[%] File Downloaded !\n",
            "\n",
            "[%] Downloading Image #22 from http://1.bp.blogspot.com/-XVJjUeShAqI/Tlbgqmbx2PI/AAAAAAAACD0/mvAzddcC5SE/s1600/orig-10616991.jpg\n",
            "[%] File Downloaded !\n",
            "\n",
            "[%] Downloading Image #23 from http://i.ebayimg.com/images/i/171002486588-0-1/s-l1000.jpg\n",
            "[%] File Downloaded !\n",
            "\n",
            "[%] Downloading Image #24 from http://cdn.sweatband.com/new%20balance%20855%20womens%20walking%20shoes_new_balance_855_womens_walking_shoes_2000x2000.jpg\n",
            "[%] File Downloaded !\n",
            "\n",
            "[%] Downloading Image #25 from http://kaepadoublelaces.com/images/products/detail/rotate0.1.jpg\n",
            "[%] File Downloaded !\n",
            "\n",
            "[%] Downloading Image #26 from http://www.orthoticshop.com/images/D/PWMINOR-MEN-Quartz-Brown-31630.jpg\n",
            "[!] Issue getting: http://www.orthoticshop.com/images/D/PWMINOR-MEN-Quartz-Brown-31630.jpg\n",
            "[!] Error:: HTTP Error 503: Service Temporarily Unavailable\n",
            "[%] Downloading Image #26 from http://tokyofashion.com/wp-content/uploads/2011/02/TK-2010-11-28-006-005-Harajuku.jpg\n",
            "[%] File Downloaded !\n",
            "\n",
            "[%] Downloading Image #27 from http://www.orthoticshop.com/images/D/27CLAYTON-BLK.jpg\n",
            "[!] Issue getting: http://www.orthoticshop.com/images/D/27CLAYTON-BLK.jpg\n",
            "[!] Error:: HTTP Error 503: Service Temporarily Unavailable\n",
            "[%] Downloading Image #27 from https://item3.tradesy.com/images/item/3/weddings/vera-wang-white-label/65/vera-wang-white-label-bow-wedding-shoes-260132-1.jpg\n",
            "[Error]Invalid image, not saving https://item3.tradesy.com/images/item/3/weddings/vera-wang-white-label/65/vera-wang-white-label-bow-wedding-shoes-260132-1.jpg\n",
            "\n",
            "[!] Issue getting: https://item3.tradesy.com/images/item/3/weddings/vera-wang-white-label/65/vera-wang-white-label-bow-wedding-shoes-260132-1.jpg\n",
            "[!] Error:: No active exception to reraise\n",
            "[%] Downloading Image #27 from http://4.bp.blogspot.com/-oawyYJ-HZg0/Tcoqb4B5kwI/AAAAAAAABzk/Z04YSwfunB4/s1600/5.jordan5.jpg\n",
            "[%] File Downloaded !\n",
            "\n",
            "[%] Downloading Image #28 from http://www.orthoticshop.com/images/D/23BARTLETT.jpg\n",
            "[!] Issue getting: http://www.orthoticshop.com/images/D/23BARTLETT.jpg\n",
            "[!] Error:: HTTP Error 503: Service Temporarily Unavailable\n",
            "[%] Downloading Image #28 from http://www.photo-dictionary.com/photofiles/list/4365/5808rubber_shoes.jpg\n",
            "[%] File Downloaded !\n",
            "\n",
            "[%] Downloading Image #29 from http://img3.etsystatic.com/003/0/5982867/il_fullxfull.376202935_hj69.jpg\n",
            "[%] File Downloaded !\n",
            "\n",
            "[%] Downloading Image #30 from http://www.clker.com/cliparts/K/v/L/2/A/d/running-shoe-print-for-track-hi.png\n",
            "[%] File Downloaded !\n",
            "\n",
            "\n",
            "\n",
            "[%] Done. Downloaded 30 images.\n",
            "\n",
            "===============================================\n",
            "\n",
            "time: 34.3 s\n"
          ],
          "name": "stdout"
        }
      ]
    },
    {
      "cell_type": "code",
      "metadata": {
        "colab": {
          "base_uri": "https://localhost:8080/"
        },
        "id": "ih8fSHPSHUo7",
        "outputId": "6513b71b-3864-434e-c97d-eb1121d0bd80"
      },
      "source": [
        "from bing_image_downloader import downloader\n",
        "downloader.download(\"pigs\",limit=30,output_dir='images',adult_filter_off=True)"
      ],
      "execution_count": null,
      "outputs": [
        {
          "output_type": "stream",
          "text": [
            "\n",
            "\n",
            "[!!]Indexing page: 1\n",
            "\n",
            "[%] Indexed 18 Images on Page 1.\n",
            "\n",
            "===============================================\n",
            "\n",
            "[%] Downloading Image #1 from https://www.pigprogress.net/Resizes/mainarticleimage/PageFiles/72/48/24872/001_boerderij-image-PP1408I01.jpg\n",
            "[%] File Downloaded !\n",
            "\n",
            "[%] Downloading Image #2 from https://1funny.com/wp-content/uploads/2012/09/affirmations_23.jpg\n",
            "[%] File Downloaded !\n",
            "\n",
            "[%] Downloading Image #3 from http://1.bp.blogspot.com/-TsyVzsm6_2U/UFis0fiVPJI/AAAAAAAAAO0/SyFOijxta1U/s1600/Disney-Fairies-disney-237185_1024_768.jpg\n",
            "[%] File Downloaded !\n",
            "\n",
            "[%] Downloading Image #4 from https://fffmoviepostermuseum.com/wp-content/uploads/2016/05/cleopatra-italian-photobusta-3.jpg\n",
            "[%] File Downloaded !\n",
            "\n",
            "[%] Downloading Image #5 from http://sonyaandtravis.com/images/india-2012/jaipur-rajasthan-india-monkey-temple-j-the-first-water-tank-at-the-monkey-temple.jpg\n",
            "[%] File Downloaded !\n",
            "\n",
            "[%] Downloading Image #6 from http://www.makinglearningfun.com/images/photos/GridArt-candle.jpg\n",
            "[%] File Downloaded !\n",
            "\n",
            "[%] Downloading Image #7 from https://i.pinimg.com/736x/b1/70/f4/b170f4bb0a79b9b3c5ab286ccdf455ff--chinchilla-cage-setup-chinchillas.jpg\n",
            "[%] File Downloaded !\n",
            "\n",
            "[%] Downloading Image #8 from http://3.bp.blogspot.com/-3lNJvdHjq3Y/UKnJV38MxhI/AAAAAAAAAvk/qYSDEjZkDjA/s400/Funny+Rabbit.jpg\n",
            "[%] File Downloaded !\n",
            "\n",
            "[%] Downloading Image #9 from http://www.wallpapers13.com/wp-content/uploads/2016/07/Ban-Gioc-Detian-Falls-Desktop-Wallpaper-full-screen-2880x1800-1024x640.jpg\n",
            "[%] File Downloaded !\n",
            "\n",
            "[%] Downloading Image #10 from https://brewminate.com/wp-content/uploads/2016/06/Peasants11.jpg\n",
            "[%] File Downloaded !\n",
            "\n",
            "[%] Downloading Image #11 from https://www.wallpapers13.com/wp-content/uploads/2019/01/Bora-Bora-Island-Beautiful-Places-French-Polynesia-South-Pacific-island-northwest-of-Tahiti-HD-Desktop-Wallpapers-3840x2400--1024x640.jpg\n",
            "[%] File Downloaded !\n",
            "\n",
            "[%] Downloading Image #12 from https://www.wallpapers13.com/wp-content/uploads/2019/06/Mesosaurus-Fossil-Bush-Camp-Fire-sky-over-South-Namibia-desktop-hd-wallpapers-for-mobile-phones-and-computer-1024x640.jpg\n",
            "[%] File Downloaded !\n",
            "\n",
            "[%] Downloading Image #13 from https://artisansofthevalley.com/ws/cs/ws_cs_bear16a_l.jpg\n",
            "[%] File Downloaded !\n",
            "\n",
            "[%] Downloading Image #14 from http://www.kidsomania.com/photos/40-coolest-cakes-for-a-kids-party-28-524x786.jpg\n",
            "[%] File Downloaded !\n",
            "\n",
            "[%] Downloading Image #15 from http://www.earthlymission.com/wp-content/uploads/2017/12/weird-vintage-holiday-new-year-cards-5.jpg\n",
            "[%] File Downloaded !\n",
            "\n",
            "[%] Downloading Image #16 from https://www.learningliftoff.com/wp-content/uploads/2014/01/Coloring-pages.jpg\n",
            "[%] File Downloaded !\n",
            "\n",
            "[%] Downloading Image #17 from http://www.makinglearningfun.com/images/photos/Ocean/WhaleBlowHolewithRhyme-1.JPG\n",
            "[%] File Downloaded !\n",
            "\n",
            "[%] Downloading Image #18 from https://www.laughtard.com/wp-content/uploads/2019/07/Oh-really-meme-3.jpg\n",
            "[%] File Downloaded !\n",
            "\n",
            "\n",
            "\n",
            "[!!]Indexing page: 2\n",
            "\n",
            "[%] Indexed 19 Images on Page 2.\n",
            "\n",
            "===============================================\n",
            "\n",
            "[%] Downloading Image #19 from http://www.toxel.com/wp-content/uploads/2012/08/guineapig07.jpg\n",
            "[%] File Downloaded !\n",
            "\n",
            "[%] Downloading Image #20 from https://d1466nnw0ex81e.cloudfront.net/n_iv/600/1336689.jpg\n",
            "[%] File Downloaded !\n",
            "\n",
            "[%] Downloading Image #21 from http://www.wallpapers13.com/wp-content/uploads/2017/09/Jackson-Lake-in-Wyoming-Grand-Teton-National-Park-USA-Rocky-Mountains-Blue-Sky-Landscape-3840x2160-1024x576.jpg\n",
            "[%] File Downloaded !\n",
            "\n",
            "[%] Downloading Image #22 from https://www.wallpapers13.com/wp-content/uploads/2019/01/City-of-San-Francisco-Bay-Bridge-Night-lights-California-United-States-HD-Wallpapers-For-Tablets-Free-Download-3840x2400-1024x701.jpg\n",
            "[%] File Downloaded !\n",
            "\n",
            "[%] Downloading Image #23 from http://thewowstyle.com/wp-content/uploads/2014/12/Snowman-Cheese-Ball.jpg\n",
            "[%] File Downloaded !\n",
            "\n",
            "[%] Downloading Image #24 from https://wallpapershome.com/images/wallpapers/guinea-pig-1080x1920-brown-cute-animals-10126.jpg\n",
            "[%] File Downloaded !\n",
            "\n",
            "[%] Downloading Image #25 from https://www.understandinganimalresearch.org.uk/files/1914/2971/3656/Mouse10facts.jpg\n",
            "[%] File Downloaded !\n",
            "\n",
            "[%] Downloading Image #26 from https://spongekids.com/wp-content/uploads/2014/03/animal-paper-roll-crafts/14-homemade-butterfly-craft.jpg\n",
            "[%] File Downloaded !\n",
            "\n",
            "[%] Downloading Image #27 from https://geekologie.com/2013/06/17/guinea-pig-armor-5.jpg\n",
            "[%] File Downloaded !\n",
            "\n",
            "[%] Downloading Image #28 from http://ruffsstuff.com/wp-content/uploads/2012/01/folsom-street-fair-black-rubber-masks.jpeg\n",
            "[%] File Downloaded !\n",
            "\n",
            "[%] Downloading Image #29 from https://beautifulholidays.com.au/pictures-travel/samoa/culture/tatoo.jpg\n",
            "[%] File Downloaded !\n",
            "\n",
            "[%] Downloading Image #30 from http://www.thecrepesofwrath.com/images/2015/05/Funfetti/FunfettiCake-38.jpg\n",
            "[%] File Downloaded !\n",
            "\n",
            "\n",
            "\n",
            "[%] Done. Downloaded 30 images.\n",
            "\n",
            "===============================================\n",
            "\n",
            "time: 54.7 s\n"
          ],
          "name": "stdout"
        }
      ]
    },
    {
      "cell_type": "code",
      "metadata": {
        "colab": {
          "base_uri": "https://localhost:8080/"
        },
        "id": "cXHsufitHpBH",
        "outputId": "f4f72bde-caee-44b1-b86a-57a6ee56e262"
      },
      "source": [
        "import numpy as np\n",
        "a = np.array([[1,2,3,4,5],[4,5,6,7,8]])\n",
        "a.ndim"
      ],
      "execution_count": null,
      "outputs": [
        {
          "output_type": "execute_result",
          "data": {
            "text/plain": [
              "2"
            ]
          },
          "metadata": {
            "tags": []
          },
          "execution_count": 9
        },
        {
          "output_type": "stream",
          "text": [
            "time: 5.13 ms\n"
          ],
          "name": "stdout"
        }
      ]
    },
    {
      "cell_type": "code",
      "metadata": {
        "colab": {
          "base_uri": "https://localhost:8080/"
        },
        "id": "7ZGkTB_QIEoa",
        "outputId": "25182a71-e77d-4104-bb6d-0bd47a695878"
      },
      "source": [
        "a.flatten()\n",
        "a.ndim"
      ],
      "execution_count": null,
      "outputs": [
        {
          "output_type": "execute_result",
          "data": {
            "text/plain": [
              "2"
            ]
          },
          "metadata": {
            "tags": []
          },
          "execution_count": 10
        },
        {
          "output_type": "stream",
          "text": [
            "time: 2.4 ms\n"
          ],
          "name": "stdout"
        }
      ]
    },
    {
      "cell_type": "code",
      "metadata": {
        "colab": {
          "base_uri": "https://localhost:8080/"
        },
        "id": "UwFEJSzaIZ5k",
        "outputId": "fa71f79c-5102-4822-af76-bdd966fbc0ed"
      },
      "source": [
        "import os\n",
        "import matplotlib.pyplot as plt\n",
        "import numpy as np\n",
        "from skimage.io import imread\n",
        "from skimage.transform import resize\n",
        "\n",
        "target = []\n",
        "images = []\n",
        "flat_data = []\n",
        "\n",
        "DATADIR = '/content/images'\n",
        "CATEGORIES = ['chocolates','shoes','pigs']\n",
        "\n",
        "for category in CATEGORIES:\n",
        "  print(category)\n"
      ],
      "execution_count": null,
      "outputs": [
        {
          "output_type": "stream",
          "text": [
            "chocolates\n",
            "shoes\n",
            "pigs\n",
            "time: 4.22 ms\n"
          ],
          "name": "stdout"
        }
      ]
    },
    {
      "cell_type": "code",
      "metadata": {
        "colab": {
          "base_uri": "https://localhost:8080/"
        },
        "id": "0xvYPxmoKrFQ",
        "outputId": "b3386ebf-526a-419a-9116-9433da85426d"
      },
      "source": [
        "import os\n",
        "import matplotlib.pyplot as plt\n",
        "import numpy as np\n",
        "from skimage.io import imread\n",
        "from skimage.transform import resize\n",
        "\n",
        "target = []\n",
        "images = []\n",
        "flat_data = []\n",
        "\n",
        "DATADIR = '/content/images'\n",
        "CATEGORIES = ['chocolates','shoes','pigs']\n",
        "\n",
        "for category in CATEGORIES:\n",
        "  class_num = CATEGORIES.index(category)\n",
        "  print(class_num)"
      ],
      "execution_count": null,
      "outputs": [
        {
          "output_type": "stream",
          "text": [
            "0\n",
            "1\n",
            "2\n",
            "time: 24.2 ms\n"
          ],
          "name": "stdout"
        }
      ]
    },
    {
      "cell_type": "code",
      "metadata": {
        "colab": {
          "base_uri": "https://localhost:8080/"
        },
        "id": "fS648K81RJyG",
        "outputId": "0f4ae920-33d3-4c0e-95de-526b71ab2823"
      },
      "source": [
        "import os\n",
        "import matplotlib.pyplot as plt\n",
        "import numpy as np\n",
        "from skimage.io import imread\n",
        "from skimage.transform import resize\n",
        "\n",
        "target = []\n",
        "images = []\n",
        "flat_data = []\n",
        "\n",
        "DATADIR = '/content/images'\n",
        "CATEGORIES = ['chocolates','shoes','pigs']\n",
        "\n",
        "for category in CATEGORIES:\n",
        "  class_num = CATEGORIES.index(category)\n",
        "  path = os.path.join(DATADIR,category)\n",
        "  print(path)"
      ],
      "execution_count": null,
      "outputs": [
        {
          "output_type": "stream",
          "text": [
            "/content/images/chocolates\n",
            "/content/images/shoes\n",
            "/content/images/pigs\n",
            "time: 7.57 ms\n"
          ],
          "name": "stdout"
        }
      ]
    },
    {
      "cell_type": "code",
      "metadata": {
        "colab": {
          "base_uri": "https://localhost:8080/"
        },
        "id": "02mO_XCbSgxS",
        "outputId": "bd4e476f-b739-4170-e415-bf7c8c1ddc4f"
      },
      "source": [
        "!pip install ipython-autotime\n",
        "%load_ext autotime"
      ],
      "execution_count": null,
      "outputs": [
        {
          "output_type": "stream",
          "text": [
            "Collecting ipython-autotime\n",
            "  Downloading https://files.pythonhosted.org/packages/3f/58/a4a65efcce5c81a67b6893ade862736de355a3a718af5533d30c991831ce/ipython_autotime-0.2.0-py2.py3-none-any.whl\n",
            "Requirement already satisfied: ipython in /usr/local/lib/python3.6/dist-packages (from ipython-autotime) (5.5.0)\n",
            "Requirement already satisfied: simplegeneric>0.8 in /usr/local/lib/python3.6/dist-packages (from ipython->ipython-autotime) (0.8.1)\n",
            "Requirement already satisfied: decorator in /usr/local/lib/python3.6/dist-packages (from ipython->ipython-autotime) (4.4.2)\n",
            "Requirement already satisfied: traitlets>=4.2 in /usr/local/lib/python3.6/dist-packages (from ipython->ipython-autotime) (4.3.3)\n",
            "Requirement already satisfied: setuptools>=18.5 in /usr/local/lib/python3.6/dist-packages (from ipython->ipython-autotime) (50.3.2)\n",
            "Requirement already satisfied: pygments in /usr/local/lib/python3.6/dist-packages (from ipython->ipython-autotime) (2.6.1)\n",
            "Requirement already satisfied: pickleshare in /usr/local/lib/python3.6/dist-packages (from ipython->ipython-autotime) (0.7.5)\n",
            "Requirement already satisfied: prompt-toolkit<2.0.0,>=1.0.4 in /usr/local/lib/python3.6/dist-packages (from ipython->ipython-autotime) (1.0.18)\n",
            "Requirement already satisfied: pexpect; sys_platform != \"win32\" in /usr/local/lib/python3.6/dist-packages (from ipython->ipython-autotime) (4.8.0)\n",
            "Requirement already satisfied: ipython-genutils in /usr/local/lib/python3.6/dist-packages (from traitlets>=4.2->ipython->ipython-autotime) (0.2.0)\n",
            "Requirement already satisfied: six in /usr/local/lib/python3.6/dist-packages (from traitlets>=4.2->ipython->ipython-autotime) (1.15.0)\n",
            "Requirement already satisfied: wcwidth in /usr/local/lib/python3.6/dist-packages (from prompt-toolkit<2.0.0,>=1.0.4->ipython->ipython-autotime) (0.2.5)\n",
            "Requirement already satisfied: ptyprocess>=0.5 in /usr/local/lib/python3.6/dist-packages (from pexpect; sys_platform != \"win32\"->ipython->ipython-autotime) (0.6.0)\n",
            "Installing collected packages: ipython-autotime\n",
            "Successfully installed ipython-autotime-0.2.0\n",
            "time: 179 µs\n"
          ],
          "name": "stdout"
        }
      ]
    },
    {
      "cell_type": "code",
      "metadata": {
        "colab": {
          "base_uri": "https://localhost:8080/"
        },
        "id": "NI3dPOxIR8ae",
        "outputId": "e24512be-132c-4ad2-c276-6fd8c3009107"
      },
      "source": [
        "import os\n",
        "import matplotlib.pyplot as plt\n",
        "import numpy as np\n",
        "from skimage.io import imread\n",
        "from skimage.transform import resize\n",
        "\n",
        "target = []\n",
        "images = []\n",
        "flat_data = []\n",
        "\n",
        "DATADIR = '/content/images'\n",
        "CATEGORIES = ['chocolates','shoes','pigs']\n",
        "\n",
        "for category in CATEGORIES:\n",
        "  class_num = CATEGORIES.index(category)\n",
        "  path = os.path.join(DATADIR,category)\n",
        "  for img in os.listdir(path):\n",
        "    img_array = imread(os.path.join(path,img))\n",
        "    print(img_array.shape)"
      ],
      "execution_count": null,
      "outputs": [
        {
          "output_type": "stream",
          "text": [
            "(847, 564, 3)\n",
            "(2808, 2085, 3)\n",
            "(600, 400, 3)\n",
            "(720, 480, 3)\n",
            "(844, 635, 3)\n",
            "(669, 480, 3)\n",
            "(1800, 1200, 3)\n",
            "(338, 541, 3)\n",
            "(2808, 2085, 3)\n",
            "(945, 600, 3)\n",
            "(413, 620, 3)\n",
            "(1024, 674, 3)\n",
            "(600, 400, 3)\n",
            "(540, 900, 3)\n",
            "(564, 564, 3)\n",
            "(974, 650, 3)\n",
            "(960, 663, 3)\n",
            "(4256, 2832, 3)\n",
            "(752, 564, 3)\n",
            "(1200, 637, 3)\n",
            "(2808, 2085, 3)\n",
            "(1707, 1280, 3)\n",
            "(300, 450, 3)\n",
            "(1440, 1920, 3)\n",
            "(1451, 1000, 3)\n",
            "(946, 630, 3)\n",
            "(600, 400, 3)\n",
            "(1406, 2500, 3)\n",
            "(527, 620, 4)\n",
            "(752, 564, 3)\n",
            "(373, 640, 3)\n",
            "(673, 673, 3)\n",
            "(582, 445, 3)\n",
            "(493, 239, 3)\n",
            "(1125, 1500, 3)\n",
            "(717, 1024, 3)\n",
            "(477, 600, 4)\n",
            "(1500, 1000, 3)\n",
            "(360, 520, 3)\n",
            "(506, 564, 3)\n",
            "(592, 390, 4)\n",
            "(266, 400, 3)\n",
            "(800, 800, 3)\n",
            "(450, 450, 3)\n",
            "(1280, 853, 3)\n",
            "(372, 400, 3)\n",
            "(466, 700, 3)\n",
            "(611, 800, 3)\n",
            "(469, 700, 3)\n",
            "(750, 500, 3)\n",
            "(1500, 1500, 3)\n",
            "(525, 700, 3)\n",
            "(324, 504, 3)\n",
            "(584, 818, 3)\n",
            "(800, 1060, 3)\n",
            "(700, 450, 3)\n",
            "(783, 595, 3)\n",
            "(690, 690, 3)\n",
            "(1475, 2080, 3)\n",
            "(450, 600, 3)\n",
            "(1500, 1000, 3)\n",
            "(640, 1024, 3)\n",
            "(1600, 1067, 3)\n",
            "(417, 450, 3)\n",
            "(640, 1024, 3)\n",
            "(350, 500, 3)\n",
            "(576, 1024, 3)\n",
            "(272, 272, 3)\n",
            "(975, 750, 3)\n",
            "(640, 1024, 3)\n",
            "(786, 524, 3)\n",
            "(333, 250, 3)\n",
            "(2028, 1500, 3)\n",
            "(998, 720, 3)\n",
            "(927, 600, 3)\n",
            "(626, 600, 3)\n",
            "(300, 231, 3)\n",
            "(680, 510, 3)\n",
            "(420, 600, 3)\n",
            "(701, 1024, 3)\n",
            "(1920, 1080, 3)\n",
            "(400, 275, 3)\n",
            "(784, 553, 3)\n",
            "(700, 508, 3)\n",
            "(768, 1024, 3)\n",
            "(426, 640, 3)\n",
            "(1024, 768, 3)\n",
            "(467, 350, 3)\n",
            "(2000, 1420, 3)\n",
            "(750, 446, 3)\n",
            "time: 2.55 s\n"
          ],
          "name": "stdout"
        }
      ]
    },
    {
      "cell_type": "code",
      "metadata": {
        "colab": {
          "base_uri": "https://localhost:8080/",
          "height": 286
        },
        "id": "-D8NMNYVV0s2",
        "outputId": "cf944a15-4123-4cb2-9832-01625c909029"
      },
      "source": [
        "import os\n",
        "import matplotlib.pyplot as plt\n",
        "import numpy as np\n",
        "from skimage.io import imread\n",
        "from skimage.transform import resize\n",
        "\n",
        "target = []\n",
        "images = []\n",
        "flat_data = []\n",
        "\n",
        "DATADIR = '/content/images'\n",
        "CATEGORIES = ['chocolates','shoes','pigs']\n",
        "\n",
        "for category in CATEGORIES:\n",
        "  class_num = CATEGORIES.index(category)\n",
        "  path = os.path.join(DATADIR,category)\n",
        "  for img in os.listdir(path):\n",
        "    img_array = imread(os.path.join(path,img))\n",
        "    plt.imshow(img_array)\n",
        "    break\n",
        "  break"
      ],
      "execution_count": null,
      "outputs": [
        {
          "output_type": "display_data",
          "data": {
            "image/png": "[encoded data removed]",
            "text/plain": [
              "<Figure size 432x288 with 1 Axes>"
            ]
          },
          "metadata": {
            "tags": [],
            "needs_background": "light"
          }
        },
        {
          "output_type": "stream",
          "text": [
            "time: 267 ms\n"
          ],
          "name": "stdout"
        }
      ]
    },
    {
      "cell_type": "code",
      "metadata": {
        "colab": {
          "base_uri": "https://localhost:8080/"
        },
        "id": "YQJ7fcm3bNk5",
        "outputId": "c90963a8-d62f-44eb-aa07-0996a27d3099"
      },
      "source": [
        "import os\n",
        "import matplotlib.pyplot as plt\n",
        "import numpy as np\n",
        "from skimage.io import imread\n",
        "from skimage.transform import resize\n",
        "\n",
        "target = []\n",
        "images = []\n",
        "flat_data = []\n",
        "\n",
        "DATADIR = '/content/images'\n",
        "CATEGORIES = ['chocolates','shoes','pigs']\n",
        "\n",
        "for category in CATEGORIES:\n",
        "  class_num = CATEGORIES.index(category)\n",
        "  path = os.path.join(DATADIR,category)\n",
        "  for img in os.listdir(path):\n",
        "    img_array = imread(os.path.join(path,img))\n",
        "    img_resized = resize(img_array,(150,150,3))\n",
        "    flat_data.append(img_resized.flatten())\n",
        "    images.append(img_resized)\n",
        "    target.append(class_num)\n",
        "\n",
        "flat_data = np.array(flat_data)\n",
        "target = np.array(target)\n",
        "images = np.array(images)\n",
        "   "
      ],
      "execution_count": null,
      "outputs": [
        {
          "output_type": "stream",
          "text": [
            "time: 23 s\n"
          ],
          "name": "stdout"
        }
      ]
    },
    {
      "cell_type": "code",
      "metadata": {
        "colab": {
          "base_uri": "https://localhost:8080/"
        },
        "id": "JxFyo10AfUQd",
        "outputId": "e4f8c7e7-3f47-4c1f-bc75-9932a961d266"
      },
      "source": [
        "len(flat_data[0])"
      ],
      "execution_count": null,
      "outputs": [
        {
          "output_type": "execute_result",
          "data": {
            "text/plain": [
              "67500"
            ]
          },
          "metadata": {
            "tags": []
          },
          "execution_count": 19
        },
        {
          "output_type": "stream",
          "text": [
            "time: 2.29 ms\n"
          ],
          "name": "stdout"
        }
      ]
    },
    {
      "cell_type": "code",
      "metadata": {
        "colab": {
          "base_uri": "https://localhost:8080/"
        },
        "id": "GRnMU16MfbnP",
        "outputId": "457327b7-d9d8-446e-edcd-30e192fc2212"
      },
      "source": [
        "target"
      ],
      "execution_count": null,
      "outputs": [
        {
          "output_type": "execute_result",
          "data": {
            "text/plain": [
              "array([0, 0, 0, 0, 0, 0, 0, 0, 0, 0, 0, 0, 0, 0, 0, 0, 0, 0, 0, 0, 0, 0,\n",
              "       0, 0, 0, 0, 0, 0, 0, 0, 1, 1, 1, 1, 1, 1, 1, 1, 1, 1, 1, 1, 1, 1,\n",
              "       1, 1, 1, 1, 1, 1, 1, 1, 1, 1, 1, 1, 1, 1, 1, 1, 2, 2, 2, 2, 2, 2,\n",
              "       2, 2, 2, 2, 2, 2, 2, 2, 2, 2, 2, 2, 2, 2, 2, 2, 2, 2, 2, 2, 2, 2,\n",
              "       2, 2])"
            ]
          },
          "metadata": {
            "tags": []
          },
          "execution_count": 20
        },
        {
          "output_type": "stream",
          "text": [
            "time: 5.23 ms\n"
          ],
          "name": "stdout"
        }
      ]
    },
    {
      "cell_type": "code",
      "metadata": {
        "colab": {
          "base_uri": "https://localhost:8080/",
          "height": 298
        },
        "id": "KEfwN4mDfgKd",
        "outputId": "9ec839fc-5d3e-4ee8-feef-47749184e2b0"
      },
      "source": [
        "unique,count = np.unique(target,return_counts=True)\n",
        "plt.bar(CATEGORIES,count)"
      ],
      "execution_count": null,
      "outputs": [
        {
          "output_type": "execute_result",
          "data": {
            "text/plain": [
              "<BarContainer object of 3 artists>"
            ]
          },
          "metadata": {
            "tags": []
          },
          "execution_count": 21
        },
        {
          "output_type": "display_data",
          "data": {
            "image/png": "[encoded data removed]",
            "text/plain": [
              "<Figure size 432x288 with 1 Axes>"
            ]
          },
          "metadata": {
            "tags": [],
            "needs_background": "light"
          }
        },
        {
          "output_type": "stream",
          "text": [
            "time: 136 ms\n"
          ],
          "name": "stdout"
        }
      ]
    },
    {
      "cell_type": "code",
      "metadata": {
        "colab": {
          "base_uri": "https://localhost:8080/"
        },
        "id": "uLlROI2wfpJ3",
        "outputId": "1ec124b2-05a2-4961-8bd3-2f94e75a8e51"
      },
      "source": [
        "from sklearn.model_selection import train_test_split\n",
        "x_train,x_test,y_train,y_test = train_test_split(flat_data,target,test_size=0.3,random_state=109)"
      ],
      "execution_count": null,
      "outputs": [
        {
          "output_type": "stream",
          "text": [
            "time: 242 ms\n"
          ],
          "name": "stdout"
        }
      ]
    },
    {
      "cell_type": "code",
      "metadata": {
        "colab": {
          "base_uri": "https://localhost:8080/"
        },
        "id": "oyyhL16zf1KB",
        "outputId": "eb5b81c8-69ab-40c3-aec4-6acec72f2d40"
      },
      "source": [
        "from sklearn.model_selection import GridSearchCV\n",
        "from sklearn import svm\n",
        "param_grid = [\n",
        "              {  'C':[1,10,100,1000],'kernel':['linear']},\n",
        "              {   'C':[1,10,100,1000],'gamma':[0.001,0.0001],'kernel':['rbf']},\n",
        "\n",
        "]\n",
        "\n",
        "svc = svm.SVC(probability=True)\n",
        "clf = GridSearchCV(svc,param_grid)\n",
        "clf.fit(x_train,y_train)"
      ],
      "execution_count": null,
      "outputs": [
        {
          "output_type": "execute_result",
          "data": {
            "text/plain": [
              "GridSearchCV(cv=None, error_score=nan,\n",
              "             estimator=SVC(C=1.0, break_ties=False, cache_size=200,\n",
              "                           class_weight=None, coef0=0.0,\n",
              "                           decision_function_shape='ovr', degree=3,\n",
              "                           gamma='scale', kernel='rbf', max_iter=-1,\n",
              "                           probability=True, random_state=None, shrinking=True,\n",
              "                           tol=0.001, verbose=False),\n",
              "             iid='deprecated', n_jobs=None,\n",
              "             param_grid=[{'C': [1, 10, 100, 1000], 'kernel': ['linear']},\n",
              "                         {'C': [1, 10, 100, 1000], 'gamma': [0.001, 0.0001],\n",
              "                          'kernel': ['rbf']}],\n",
              "             pre_dispatch='2*n_jobs', refit=True, return_train_score=False,\n",
              "             scoring=None, verbose=0)"
            ]
          },
          "metadata": {
            "tags": []
          },
          "execution_count": 23
        },
        {
          "output_type": "stream",
          "text": [
            "time: 2min 4s\n"
          ],
          "name": "stdout"
        }
      ]
    },
    {
      "cell_type": "code",
      "metadata": {
        "colab": {
          "base_uri": "https://localhost:8080/"
        },
        "id": "aw2PYP_lgvph",
        "outputId": "a28451f1-f0e0-47cc-a796-422703147796"
      },
      "source": [
        "y_pred = clf.predict(x_test)\n",
        "y_pred"
      ],
      "execution_count": null,
      "outputs": [
        {
          "output_type": "execute_result",
          "data": {
            "text/plain": [
              "array([1, 1, 1, 2, 1, 0, 1, 0, 2, 2, 0, 0, 1, 2, 0, 2, 2, 0, 0, 0, 0, 2,\n",
              "       2, 0, 0, 0, 1])"
            ]
          },
          "metadata": {
            "tags": []
          },
          "execution_count": 24
        },
        {
          "output_type": "stream",
          "text": [
            "time: 200 ms\n"
          ],
          "name": "stdout"
        }
      ]
    },
    {
      "cell_type": "code",
      "metadata": {
        "colab": {
          "base_uri": "https://localhost:8080/"
        },
        "id": "-Nmbv9ewhD0g",
        "outputId": "4fc61067-b4a3-4509-db58-d5406397402f"
      },
      "source": [
        "y_test"
      ],
      "execution_count": null,
      "outputs": [
        {
          "output_type": "execute_result",
          "data": {
            "text/plain": [
              "array([1, 0, 1, 2, 2, 1, 0, 1, 1, 0, 1, 0, 1, 2, 2, 1, 2, 1, 0, 1, 2, 2,\n",
              "       2, 0, 0, 0, 1])"
            ]
          },
          "metadata": {
            "tags": []
          },
          "execution_count": 25
        },
        {
          "output_type": "stream",
          "text": [
            "time: 4.84 ms\n"
          ],
          "name": "stdout"
        }
      ]
    },
    {
      "cell_type": "code",
      "metadata": {
        "colab": {
          "base_uri": "https://localhost:8080/"
        },
        "id": "o8FLtH_LhHmg",
        "outputId": "57371428-d9a1-4ade-e8b4-feeb784a8e98"
      },
      "source": [
        "from sklearn.metrics import accuracy_score,confusion_matrix"
      ],
      "execution_count": null,
      "outputs": [
        {
          "output_type": "stream",
          "text": [
            "time: 1.12 ms\n"
          ],
          "name": "stdout"
        }
      ]
    },
    {
      "cell_type": "code",
      "metadata": {
        "colab": {
          "base_uri": "https://localhost:8080/"
        },
        "id": "RRB6aCTuhSf8",
        "outputId": "c0efdf52-2faf-4974-f0ba-2c2b18aa54bf"
      },
      "source": [
        "accuracy_score(y_pred,y_test)"
      ],
      "execution_count": null,
      "outputs": [
        {
          "output_type": "execute_result",
          "data": {
            "text/plain": [
              "0.5185185185185185"
            ]
          },
          "metadata": {
            "tags": []
          },
          "execution_count": 27
        },
        {
          "output_type": "stream",
          "text": [
            "time: 8.66 ms\n"
          ],
          "name": "stdout"
        }
      ]
    },
    {
      "cell_type": "code",
      "metadata": {
        "colab": {
          "base_uri": "https://localhost:8080/"
        },
        "id": "HcDf-cXlh36l",
        "outputId": "2c24d038-ddd5-4a3a-9900-bdb67d329951"
      },
      "source": [
        "confusion_matrix(y_pred,y_test)"
      ],
      "execution_count": null,
      "outputs": [
        {
          "output_type": "execute_result",
          "data": {
            "text/plain": [
              "array([[5, 5, 2],\n",
              "       [2, 4, 1],\n",
              "       [1, 2, 5]])"
            ]
          },
          "metadata": {
            "tags": []
          },
          "execution_count": 28
        },
        {
          "output_type": "stream",
          "text": [
            "time: 5.25 ms\n"
          ],
          "name": "stdout"
        }
      ]
    },
    {
      "cell_type": "code",
      "metadata": {
        "colab": {
          "base_uri": "https://localhost:8080/"
        },
        "id": "4EqvOAyGiB9E",
        "outputId": "cec94dd4-dea4-457b-d8dd-11723869a813"
      },
      "source": [
        "import pickle\n",
        "pickle.dump(clf,open('img_model.p','wb'))"
      ],
      "execution_count": null,
      "outputs": [
        {
          "output_type": "stream",
          "text": [
            "time: 71.9 ms\n"
          ],
          "name": "stdout"
        }
      ]
    },
    {
      "cell_type": "code",
      "metadata": {
        "colab": {
          "base_uri": "https://localhost:8080/"
        },
        "id": "2If1TPjlnI_Z",
        "outputId": "b3a3772c-af80-43d2-c00e-645d4a5fb48e"
      },
      "source": [
        "model = pickle.load(open('img_model.p','rb'))"
      ],
      "execution_count": null,
      "outputs": [
        {
          "output_type": "stream",
          "text": [
            "time: 36.1 ms\n"
          ],
          "name": "stdout"
        }
      ]
    },
    {
      "cell_type": "code",
      "metadata": {
        "colab": {
          "base_uri": "https://localhost:8080/",
          "height": 356
        },
        "id": "2eyiHow0iWMV",
        "outputId": "a3165e23-3c93-4f55-acd3-0982de344e8c"
      },
      "source": [
        "flat_data = []\n",
        "url = input('ENTER YOUR URL')\n",
        "img = imread(url)\n",
        "img_resized = resize(img,(150,150,3))\n",
        "flat_data.append(img_resized.flatten())\n",
        "flat_data = np.array(flat_data)\n",
        "print(img.shape)\n",
        "plt.imshow(img_resized)\n",
        "y_out = model.predict(flat_data)\n",
        "y_out = CATEGORIES[y_out[0]]\n",
        "print(f'PREDICTED OUTPUT: {y_out}')"
      ],
      "execution_count": null,
      "outputs": [
        {
          "output_type": "stream",
          "text": [
            "ENTER YOUR URLhttps://www.treehugger.com/thmb/wtEZ-8nEq-BbxL8jC8eH5eDS0bo=/2070x2070/smart/filters:no_upscale()/piglet-grass-dandelions-01-b21d7ef8f881496f8346dbe01859537e.jpg\n",
            "(2070, 2070, 3)\n",
            "PREDICTED OUTPUT: pigs\n"
          ],
          "name": "stdout"
        },
        {
          "output_type": "display_data",
          "data": {
            "image/png": "[encoded data removed]",
            "text/plain": [
              "<Figure size 432x288 with 1 Axes>"
            ]
          },
          "metadata": {
            "tags": [],
            "needs_background": "light"
          }
        },
        {
          "output_type": "stream",
          "text": [
            "time: 7.77 s\n"
          ],
          "name": "stdout"
        }
      ]
    }
  ]
}